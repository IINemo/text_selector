{
 "cells": [
  {
   "cell_type": "code",
   "execution_count": 1,
   "metadata": {},
   "outputs": [],
   "source": [
    "from text_selector.widget import Widget\n",
    "from ipywidgets import HBox, Button, Label, VBox"
   ]
  },
  {
   "cell_type": "code",
   "execution_count": 2,
   "metadata": {
    "scrolled": false
   },
   "outputs": [
    {
     "data": {
      "application/vnd.jupyter.widget-view+json": {
       "model_id": "b1c042c555e344a19907e9a00074789d",
       "version_major": 2,
       "version_minor": 0
      },
      "text/plain": [
       "Widget(res={'0': {'3:9': 'protein', '15:20': 'protein', '50:58': 'protein'}}, tags=['protein', 'DNA', 'cell_ty…"
      ]
     },
     "metadata": {},
     "output_type": "display_data"
    }
   ],
   "source": [
    "def callback(obj):\n",
    "    print(obj)\n",
    "\n",
    "txts = [\n",
    "    \"The human TCF-1 gene encodes a nuclear DNA-binding protein uniquely expressed in normal and neoplastic T-lineage lymphocytes .\",\n",
    "    \"The anti-inflammatory drugs sodium salicylate and aspirin inhibited the activation of NF-kappa B, which further explains the mechanism of action of these drugs .\",\n",
    "    \"Expression of IL-1alpha by HTLV-I productively infected cells may be important in the hypercalcemia , osteolytic bone lesions , neutrophilia , elevation of C-reactive protein, and fever frequently seen in patients with HTLV-I-induced adult T-cell leukemia/lymphoma .\",\n",
    "    \"These data may have implications for the stringent control of IL-4 expression in T cells .\",\n",
    "    \"PI3-kinase activity was an upstream activator of PKB/Akt because the PI3-kinase inhibitor LY294002 blocked both constitutive PKB/Akt and factor-dependent PKB/Akt activity .\",\n",
    "    \"Cell-type-specific regulation of the human <B-DNA> tumor <I-DNA> necrosis <I-DNA> factor <I-DNA> alpha <I-DNA> gene <I-DNA> in B <B-cell_type> cells <I-cell_type> and T <B-cell_type> cells <I-cell_type> by NFATp <B-protein> and ATF-2/JUN <B-protein> .\",\n",
    "    \"The IL-2 <B-protein> enhancer contains a functional motif named CD28 <B-DNA> response <I-DNA> element <I-DNA> ( CD28RE <B-DNA> ) that serves a role as a target for mitogenic T cell activation signals .\",\n",
    "    \"Here , we describe the effect of 383-bp <B-DNA> ( <I-DNA> delta383 <I-DNA> ) <I-DNA> and <I-DNA> 99-bp <I-DNA> ( <I-DNA> delta99 <I-DNA> ) <I-DNA> sequences <I-DNA> containing the PYBF-binding <B-DNA> site <I-DNA> on transcription from various globin and non-globin promoters , using a transient assay with the cat <B-DNA> reporter <I-DNA> gene <I-DNA> in murine <B-cell_line> erythroleukemia <I-cell_line> ( <I-cell_line> MEL <I-cell_line> ) <I-cell_line> cells <I-cell_line> , a cell line with abundant PYBF <B-protein> activity .\",\n",
    "    \"Since the co-expression with a dominant negative c-Fos <B-protein> abolished the responsiveness to TPA , we conclude that activated transcription of the DRA <B-DNA> gene <I-DNA> depends on interactions between the X2 <B-DNA> box <I-DNA> and NF-X2 <B-DNA> , which contains c-Fos <B-protein> .\",\n",
    "    \"To test this hypothesis , 4-h NK cytolysis assays were performed on IFN-gamma-treated <B-cell_line> human <I-cell_line> cells <I-cell_line> infected with an Ad5 E1A <B-DNA> deletion mutant , dl343 , or transfected with the Ad5 <B-DNA> E1A <I-DNA> gene <I-DNA> .\",\n",
    "    \"Taken together , these findings suggest that PWM <B-protein> is able to initiate an intracytoplasmic signalling cascade and EGR-1 <B-DNA> induction in normal <B-cell_type> human <I-cell_type> B <I-cell_type> cells <I-cell_type> .\",\n",
    "    \"As several inflammatory <B-protein> cytokines <I-protein> and oxidative stresses are involved in the pathogenesis of HIV-1 infection , we investigated the inhibitory effects of cepharanthine on tumor necrosis factor alpha ( TNF-alpha <B-protein> ) - and phorbol 12-myristate 13-acetate ( PMA ) -induced HIV-1 replication in chronically <B-cell_line> infected <I-cell_line> cell <I-cell_line> lines <I-cell_line> .\",\n",
    "    \"The authors provide the results of studying 1 , 25-dihydroxyvitamin D3 ( calcitriol ) in lymphocytes <B-cell_type> of children with rickets and rickets-like diseases .\",\n",
    "    \"These results suggest that HIV-TF1 <B-protein> is involved in transcriptional regulation of HIV-1 .\",\n",
    "    \"Associated with these findings , the levels of p21 <B-protein> ( <I-protein> WAF1/CIP1 <I-protein> ) <I-protein> and p27 <B-RNA> ( <I-RNA> KIP1 <I-RNA> ) <I-RNA> mRNA <I-RNA> and protein increased in these cells .\",\n",
    "    \"The gene encoding the Epstein-Barr <B-protein> virus <I-protein> ( <I-protein> EBV <I-protein> ) <I-protein> -specific <I-protein> dUTPase <I-protein> was amplified from virus <B-DNA> DNA <I-DNA> by PCR .\",\n",
    "    \"In vivo studies in rats utilized 2 mg/kg IV bolus doses of liposomal MPL compared to drug in solution .\",\n",
    "    \"Only through considered evaluation of clinical evidence may clinicians determine which therapies should remain novelties and which should become an accepted part of the armamentarium .\",\n",
    "    \"The levels of cAMP-dependent <B-protein> protein <I-protein> kinase <I-protein> and Rap1 <B-protein> were assessed by Western blot analysis , immunostaining , and computer-assisted imaging .\",\n",
    "    \"Oncogenicity of human <B-cell_line> papillomavirus- <I-cell_line> or <I-cell_line> adenovirus-transformed <I-cell_line> cells <I-cell_line> correlates with resistance to lysis by natural <B-cell_type> killer <I-cell_type> cells <I-cell_type> .\",\n",
    "    \"Because the primed <B-cell_line> T <I-cell_line> cells <I-cell_line> contain higher levels of nuclear <B-protein> NF-ATp <I-protein> , capable of binding to P <B-DNA> elements <I-DNA> of the IL-4 <B-DNA> and <I-DNA> IL-13 <I-DNA> promoters <I-DNA> , than do freshly-isolated <B-cell_type> T <I-cell_type> cells <I-cell_type> , the NF-AT-binding <B-DNA> P <I-DNA> elements <I-DNA> are attractive candidates to mediate the coordinate expression of these two cytokine <B-DNA> genes <I-DNA> .\",\n",
    "    \"While the maternally <B-DNA> derived <I-DNA> X <I-DNA> chromosome <I-DNA> was preferentially active in the asymptomatic twin , the paternal <B-DNA> X <I-DNA> chromosome <I-DNA> was active in the other , affected twin and was found in her hemizygotic nephew .\",\n",
    "    \"Studies of the actions of platelet-activating <B-protein> factor <I-protein> have centered mainly around neutrophils <B-cell_type> , monocytes <B-cell_type> , and platelets <B-cell_type> .\",\n",
    "    \"Stat3gamma <B-protein> is derived from Stat3alpha <B-protein> by limited proteolysis and lacks the carboxyl-terminal <B-protein> portion <I-protein> of Stat3alpha <B-protein> .\",\n",
    "    \"Examination of IkappaB <B-protein> alpha <I-protein> regulation revealed that TNF-alpha <B-protein> -mediated degradation of IkappaB <B-protein> alpha <I-protein> in both memory <B-cell_type> and <I-cell_type> naive <I-cell_type> T <I-cell_type> cells <I-cell_type> from the elderly was severely impaired , thus contributing to the lowered induction of the observed NFkappaB <B-protein> .\",\n",
    "    \"This provides the hormone with an interesting therapeutic potential .\",\n",
    "    \"We now demonstrate that v-src <B-DNA> expression correlates with nuclear expression of a kappa <B-protein> B <I-protein> binding <I-protein> complex <I-protein> similar to that induced by phorbol ester and ionomycin , as detected by electrophoretic mobility shift assay using a variety of kappa <B-DNA> B <I-DNA> sites <I-DNA> .\",\n",
    "    \"We therefore examined the effects of EC <B-cell_type> on T <B-protein> cell <I-protein> nuclear <I-protein> factors <I-protein> known to regulate IL-2 <B-protein> transcription , including c-jun <B-protein> and c-fos-two <B-protein> components <I-protein> of the transcription <B-protein> factor <I-protein> AP-1 <B-protein> , NFAT <B-protein> , and others .\",\n",
    "    \"Contrary to the results in Jurkat <B-cell_line> cells <I-cell_line> , PDTC did not inhibit tumor <B-protein> necrosis <I-protein> factor-alpha <I-protein> -induced NF <B-protein> kappaB <I-protein> activation in astrocytes <B-cell_type> ; instead PDTC itself induces NF <B-protein> kappaB <I-protein> activation in astrocytes <B-cell_type> , and this may be related to scavenging of endogenously produced NO by the PDTC iron complex .\",\n",
    "    \"To identify the molecular basis for specificity and inducibility , the chromatin <B-DNA> configuration of the human <B-DNA> B7.1 <I-DNA> gene <I-DNA> was examined in intact nuclei from various cell types .\",\n",
    "    \"Human umbilical vein ECs <B-cell_type> were pretreated with alpha-tcp before stimulation with known agonists of monocyte adhesion : IL-1 <B-protein> ( 10 ng/ml ) , LPS ( 10 ng/ml ) , thrombin <B-protein> ( 30 U/ml ) , or PMA ( 10 nM ) .\",\n",
    "    \"The 5 <B-DNA> ' <I-DNA> sequences <I-DNA> up to nucleotide -120 of the human and murine IL-16 <B-protein> genes share > 84 % sequence homology and harbor <B-DNA> promoter <I-DNA> elements <I-DNA> for constitutive and inducible transcription in T <B-cell_type> cells <I-cell_type> .\",\n",
    "    \"C3 transferase and cytochalasin D did not alter the expression levels of monocyte-binding <B-protein> receptors <I-protein> on endothelial <B-cell_type> cells <I-cell_type> , but did inhibit clustering of E-selectin <B-protein> , ICAM-1 <B-protein> , and VCAM-1 <B-protein> on the cell surface induced by monocyte adhesion or cross-linking <B-protein> antibodies <I-protein> .\",\n",
    "    \"In this study , we isolated the genomic <B-DNA> DNA <I-DNA> for human <B-DNA> IRF-2 <I-DNA> gene <I-DNA> , determined the intron-exon structure of the human <B-DNA> IRF-2 <I-DNA> gene <I-DNA> , mapped the major <B-DNA> transcription <I-DNA> initiation <I-DNA> site <I-DNA> , identified a number of potential regulatory elements in the 5'-flanking <B-DNA> region <I-DNA> , and localized the IRF-2 <B-DNA> gene <I-DNA> on human <B-DNA> chromosome <I-DNA> 4 <I-DNA> .\",\n",
    "    \"CD30 <B-protein> is a cell-surface <B-protein> receptor <I-protein> that can augment lymphocyte activation and survival through its ability to induce the transcription <B-protein> factor <I-protein> NF-kappaB <B-protein> .\",\n",
    "    \"Despite the dual specificity of HTLV-1 Tax <B-protein> for IkappaBalpha <B-protein> and IkappaBbeta <B-protein> at the protein level , Tax <B-protein> selectively stimulates NF-kappaB <B-protein> -directed transcription of the IkappaBalpha <B-DNA> gene <I-DNA> .\",\n",
    "    \"The agent , 17 beta-estradiol , but not 17 alpha-estradiol , significantly reduced PMNs <B-cell_type> chemotaxis to FMLP in a dose-dependent manner ( control vs estrogen 10 ( -10 ) - ( -6 ) M , P < 0.05 ) .\",\n",
    "    \"In PHA-activated <B-cell_line> PBL <I-cell_line> , no age-related differences were observed in c-fos or jun B mRNA expression .\",\n",
    "    \"Control of IL-5 <B-protein> production may be effective for the management of allergic diseases .\",\n",
    "    \"NFAT1 <B-protein> possesses two transactivation <B-DNA> domains <I-DNA> whose sequences are not conserved in the other NFAT-family <B-protein> proteins <I-protein> , and a conserved DNA-binding <B-DNA> domain <I-DNA> that mediates the recruitment of cooperating nuclear <B-protein> transcription <I-protein> factors <I-protein> even when it is expressed in the absence of other regions of the protein .\",\n",
    "    \"Expression of Spi-1 <B-protein> in these cells inhibited this ability to differentiate and rescued the cells from the apoptotic cell death program normally induced upon hEpo <B-protein> withdrawal .\",\n",
    "    \"Pretreatment of cultured <B-cell_type> human <I-cell_type> ECs <I-cell_type> with the PPARalpha <B-protein> activators fenofibrate or WY14643 inhibited TNF-alpha-induced <B-protein> VCAM-1 <I-protein> in a time- and concentration-dependent manner , an effect not seen with PPARgamma <B-protein> activators .\",\n",
    "    \"The molecular mechanism ( s ) responsible for this phenomenon have not been clearly elucidated .\",\n",
    "    \"GC efficiently suppressed IL-5 <B-protein> synthesis of T-cell clones activated via either T-cell <B-protein> receptor <I-protein> ( TCR <B-protein> ) or IL-2 <B-protein> receptor <I-protein> ( IL-2R <B-protein> ) .\",\n",
    "    \"Alveolar macrophages play an important role in host defense and in other types of inflammatory processes in the lung .\",\n",
    "    \"To limit expression of a transduced HIV-1 <B-DNA> long <I-DNA> terminal <I-DNA> repeat <I-DNA> ( <I-DNA> LTR <I-DNA> ) <I-DNA> -IFNA2 <I-DNA> ( the new approved nomenclature for IFN <B-DNA> genes <I-DNA> is used throughout this article ) hybrid <B-DNA> gene <I-DNA> to the HIV-1-infected <B-cell_line> cells <I-cell_line> , HIV-1 <B-DNA> LTR <I-DNA> was modified .\",\n",
    "    \"Characterization of the CD48 <B-DNA> gene <I-DNA> demonstrates a positive element that is specific to Epstein-Barr <B-cell_type> virus-immortalized <I-cell_type> B-cell <I-cell_type> lines <I-cell_type> and contains an essential NF-kappa <B-DNA> B <I-DNA> site <I-DNA> .\",\n",
    "    \"Such observations indicate that IL-4 <B-protein> Stat <I-protein> has the same functional <B-protein> domain <I-protein> for both receptor coupling and dimerization .\",\n",
    "    \"Double-stimulation was used to demonstrate that , in a T <B-cell_line> lymphocytic <I-cell_line> cell <I-cell_line> line <I-cell_line> ( CEM <B-cell_line> ) , phorbol myristate acetate ( PMA ) rapidly induced NF-kappa <B-protein> B <I-protein> through a signaling pathway which did not involve reactive oxygen species ( ROS ) and was different from the activation triggered by either H2O2 or tumor <B-protein> necrosis <I-protein> factor-alpha <I-protein> ( TNF-alpha <B-protein> ) .\",\n",
    "    \"Mutations in the TSC2 <B-DNA> gene <I-DNA> : analysis of the complete coding sequence using the protein truncation test ( PTT ) .\",\n",
    "]\n",
    "\n",
    "tags = [\n",
    "    'protein',\n",
    "    'DNA',\n",
    "    'cell_type',\n",
    "    'cell_line',\n",
    "    'RNA'\n",
    "]\n",
    "\n",
    "w = Widget(tags=tags, txts=txts, callback=callback, n=3)\n",
    "w.res = {\"0\":{\"3:9\":\"protein\",\"15:20\":\"protein\",\"50:58\":\"protein\"}}\n",
    "\n",
    "active_learning_widget = VBox([\n",
    "    HBox([\n",
    "        Button(description='Next Iteration', icon='clock-o'),\n",
    "        Label(value=\"Iteration#...\"),\n",
    "        Button(description='Save')\n",
    "    ]),\n",
    "    w\n",
    "])\n",
    "\n",
    "# active_learning_widget\n",
    "w"
   ]
  },
  {
   "cell_type": "code",
   "execution_count": 3,
   "metadata": {},
   "outputs": [
    {
     "data": {
      "text/plain": [
       "{'0': {'3:9': 'protein', '15:20': 'protein', '50:58': 'protein'},\n",
       " '1': {'8:21': 'protein', '27:34': 'DNA'}}"
      ]
     },
     "execution_count": 3,
     "metadata": {},
     "output_type": "execute_result"
    }
   ],
   "source": [
    "w.res"
   ]
  },
  {
   "cell_type": "code",
   "execution_count": null,
   "metadata": {},
   "outputs": [],
   "source": []
  }
 ],
 "metadata": {
  "kernelspec": {
   "display_name": "Python 3",
   "language": "python",
   "name": "python3"
  },
  "language_info": {
   "codemirror_mode": {
    "name": "ipython",
    "version": 3
   },
   "file_extension": ".py",
   "mimetype": "text/x-python",
   "name": "python",
   "nbconvert_exporter": "python",
   "pygments_lexer": "ipython3",
   "version": "3.7.3"
  },
  "widgets": {
   "application/vnd.jupyter.widget-state+json": {
    "state": {
     "012b7ff2636e4ff2929afd8230a6b225": {
      "model_module": "@jupyter-widgets/controls",
      "model_module_version": "1.5.0",
      "model_name": "DescriptionStyleModel",
      "state": {
       "description_width": ""
      }
     },
     "02b7a355ee7445af818aa6a56f7ede0e": {
      "model_module": "@jupyter-widgets/base",
      "model_module_version": "1.2.0",
      "model_name": "LayoutModel",
      "state": {}
     },
     "2bddb62c7d014abe9a06da44227b9bc8": {
      "model_module": "@jupyter-widgets/controls",
      "model_module_version": "1.5.0",
      "model_name": "ButtonModel",
      "state": {
       "description": "Save",
       "layout": "IPY_MODEL_fc95a1be1ebc4a56bca855d00efc2169",
       "style": "IPY_MODEL_7c2c262a63f5492c8fe5a2e2c442ad07"
      }
     },
     "2d171063d6af4a87a8b00ff7c33f2fbf": {
      "model_module": "@jupyter-widgets/base",
      "model_module_version": "1.2.0",
      "model_name": "LayoutModel",
      "state": {}
     },
     "33a300b6e38e47ea9869bc8309162378": {
      "model_module": "@jupyter-widgets/controls",
      "model_module_version": "1.5.0",
      "model_name": "HBoxModel",
      "state": {
       "children": [
        "IPY_MODEL_8271b9901a88424c9c29da89bcdcc866",
        "IPY_MODEL_db7c1844ff3946e29b51d200ab72a49c",
        "IPY_MODEL_ea3105f5013a4240abc562f92119415d"
       ],
       "layout": "IPY_MODEL_9841d6098a844ed8a14e1d42a0264a56"
      }
     },
     "3de00db997a343c1964215bd8c43de37": {
      "model_module": "text_selector",
      "model_module_version": "^0.0.0",
      "model_name": "TSWidgetModel",
      "state": {
       "_model_module_version": "^0.0.0",
       "_view_module_version": "^0.0.0",
       "layout": "IPY_MODEL_873d27630ace4c19bc4a04968fe137fd",
       "res": [
        "aaa"
       ],
       "tags": [
        "protein",
        "DNA",
        "cell_type",
        "cell_line",
        "RNA"
       ],
       "txts": [
        "As detected by in vivo footprinting , priming markedly increases the activation-dependent engagement of the P0 and P1 NFAT-binding elements of the IL-4 promoter .",
        "Binding parameters of [ 3H ] pyrilamine binding were Kd = 5.53 nM and Bmax = 2 , 647 sites/cell .",
        "PDBu-treated HL-60 cells remained viable for 7 days and thereafter began to die via apoptosis , with a concomitant down-regulation of Bcl-xL .",
        "Human RAR alpha was expressed in H9 , U937 and THP-1 cells , but almost undetectable in CEM cells .",
        "No increase in TGF-beta mRNA was observed ."
       ]
      }
     },
     "56a8c82dbbd04f2bba722806c440b1ef": {
      "model_module": "@jupyter-widgets/controls",
      "model_module_version": "1.5.0",
      "model_name": "VBoxModel",
      "state": {
       "children": [
        "IPY_MODEL_9cb589e8535b402ab4d031a1b1b68537",
        "IPY_MODEL_62c09e2fbc894017ad2f897bdac69f5a"
       ],
       "layout": "IPY_MODEL_02b7a355ee7445af818aa6a56f7ede0e"
      }
     },
     "6016917868fe4cfca53920851c30bcb7": {
      "model_module": "@jupyter-widgets/controls",
      "model_module_version": "1.5.0",
      "model_name": "DescriptionStyleModel",
      "state": {
       "description_width": ""
      }
     },
     "62c09e2fbc894017ad2f897bdac69f5a": {
      "model_module": "text_selector",
      "model_module_version": "^0.0.0",
      "model_name": "TSWidgetModel",
      "state": {
       "_model_module_version": "^0.0.0",
       "_view_module_version": "^0.0.0",
       "layout": "IPY_MODEL_2d171063d6af4a87a8b00ff7c33f2fbf",
       "res": [
        "aaa"
       ],
       "tags": [
        "protein",
        "DNA",
        "cell_type",
        "cell_line",
        "RNA"
       ],
       "txts": [
        "As detected by in vivo footprinting , priming markedly increases the activation-dependent engagement of the P0 and P1 NFAT-binding elements of the IL-4 promoter .",
        "Binding parameters of [ 3H ] pyrilamine binding were Kd = 5.53 nM and Bmax = 2 , 647 sites/cell .",
        "PDBu-treated HL-60 cells remained viable for 7 days and thereafter began to die via apoptosis , with a concomitant down-regulation of Bcl-xL .",
        "Human RAR alpha was expressed in H9 , U937 and THP-1 cells , but almost undetectable in CEM cells .",
        "No increase in TGF-beta mRNA was observed ."
       ]
      }
     },
     "65e267fca04f48b2ae0463051495c272": {
      "model_module": "@jupyter-widgets/controls",
      "model_module_version": "1.5.0",
      "model_name": "LabelModel",
      "state": {
       "layout": "IPY_MODEL_ba06e045de7c49e99e82394a074f3c70",
       "style": "IPY_MODEL_012b7ff2636e4ff2929afd8230a6b225",
       "value": "Iteration#..."
      }
     },
     "6d20dd66e4c54515bd8630a4b5628255": {
      "model_module": "@jupyter-widgets/controls",
      "model_module_version": "1.5.0",
      "model_name": "VBoxModel",
      "state": {
       "children": [
        "IPY_MODEL_33a300b6e38e47ea9869bc8309162378",
        "IPY_MODEL_3de00db997a343c1964215bd8c43de37"
       ],
       "layout": "IPY_MODEL_827111bd3e5f4004be5c8cdae33ec8ac"
      }
     },
     "7c2c262a63f5492c8fe5a2e2c442ad07": {
      "model_module": "@jupyter-widgets/controls",
      "model_module_version": "1.5.0",
      "model_name": "ButtonStyleModel",
      "state": {}
     },
     "827111bd3e5f4004be5c8cdae33ec8ac": {
      "model_module": "@jupyter-widgets/base",
      "model_module_version": "1.2.0",
      "model_name": "LayoutModel",
      "state": {}
     },
     "8271b9901a88424c9c29da89bcdcc866": {
      "model_module": "@jupyter-widgets/controls",
      "model_module_version": "1.5.0",
      "model_name": "ButtonModel",
      "state": {
       "description": "Next Iteration",
       "icon": "clock-o",
       "layout": "IPY_MODEL_eb638749231647e494aa80cf28b0c35a",
       "style": "IPY_MODEL_fcbfcb7a62ff44f1b44b6d6fd38075a8"
      }
     },
     "873d27630ace4c19bc4a04968fe137fd": {
      "model_module": "@jupyter-widgets/base",
      "model_module_version": "1.2.0",
      "model_name": "LayoutModel",
      "state": {}
     },
     "87e6c275162b4a53bc940dba9c0044a5": {
      "model_module": "@jupyter-widgets/base",
      "model_module_version": "1.2.0",
      "model_name": "LayoutModel",
      "state": {}
     },
     "9841d6098a844ed8a14e1d42a0264a56": {
      "model_module": "@jupyter-widgets/base",
      "model_module_version": "1.2.0",
      "model_name": "LayoutModel",
      "state": {}
     },
     "9cb589e8535b402ab4d031a1b1b68537": {
      "model_module": "@jupyter-widgets/controls",
      "model_module_version": "1.5.0",
      "model_name": "HBoxModel",
      "state": {
       "children": [
        "IPY_MODEL_be788141dae8484bae65354f63c3c82b",
        "IPY_MODEL_65e267fca04f48b2ae0463051495c272",
        "IPY_MODEL_2bddb62c7d014abe9a06da44227b9bc8"
       ],
       "layout": "IPY_MODEL_87e6c275162b4a53bc940dba9c0044a5"
      }
     },
     "a42e2142f28a441bb37db5cc94ebaa24": {
      "model_module": "@jupyter-widgets/controls",
      "model_module_version": "1.5.0",
      "model_name": "ButtonStyleModel",
      "state": {}
     },
     "ab5d55e09f8c4e669ad89bd0cdaf2bfe": {
      "model_module": "@jupyter-widgets/controls",
      "model_module_version": "1.5.0",
      "model_name": "ButtonStyleModel",
      "state": {}
     },
     "ba06e045de7c49e99e82394a074f3c70": {
      "model_module": "@jupyter-widgets/base",
      "model_module_version": "1.2.0",
      "model_name": "LayoutModel",
      "state": {}
     },
     "bd4a12b7f207479297f136238950aba6": {
      "model_module": "@jupyter-widgets/base",
      "model_module_version": "1.2.0",
      "model_name": "LayoutModel",
      "state": {}
     },
     "be788141dae8484bae65354f63c3c82b": {
      "model_module": "@jupyter-widgets/controls",
      "model_module_version": "1.5.0",
      "model_name": "ButtonModel",
      "state": {
       "description": "Next Iteration",
       "icon": "clock-o",
       "layout": "IPY_MODEL_fd4f46c9ddcd4084a024a34ee6217894",
       "style": "IPY_MODEL_ab5d55e09f8c4e669ad89bd0cdaf2bfe"
      }
     },
     "d30506af0b0a48adbfef87387a9fc956": {
      "model_module": "@jupyter-widgets/base",
      "model_module_version": "1.2.0",
      "model_name": "LayoutModel",
      "state": {}
     },
     "db7c1844ff3946e29b51d200ab72a49c": {
      "model_module": "@jupyter-widgets/controls",
      "model_module_version": "1.5.0",
      "model_name": "LabelModel",
      "state": {
       "layout": "IPY_MODEL_bd4a12b7f207479297f136238950aba6",
       "style": "IPY_MODEL_6016917868fe4cfca53920851c30bcb7",
       "value": "Iteration#..."
      }
     },
     "ea3105f5013a4240abc562f92119415d": {
      "model_module": "@jupyter-widgets/controls",
      "model_module_version": "1.5.0",
      "model_name": "ButtonModel",
      "state": {
       "description": "Save",
       "layout": "IPY_MODEL_d30506af0b0a48adbfef87387a9fc956",
       "style": "IPY_MODEL_a42e2142f28a441bb37db5cc94ebaa24"
      }
     },
     "eb638749231647e494aa80cf28b0c35a": {
      "model_module": "@jupyter-widgets/base",
      "model_module_version": "1.2.0",
      "model_name": "LayoutModel",
      "state": {}
     },
     "fc95a1be1ebc4a56bca855d00efc2169": {
      "model_module": "@jupyter-widgets/base",
      "model_module_version": "1.2.0",
      "model_name": "LayoutModel",
      "state": {}
     },
     "fcbfcb7a62ff44f1b44b6d6fd38075a8": {
      "model_module": "@jupyter-widgets/controls",
      "model_module_version": "1.5.0",
      "model_name": "ButtonStyleModel",
      "state": {}
     },
     "fd4f46c9ddcd4084a024a34ee6217894": {
      "model_module": "@jupyter-widgets/base",
      "model_module_version": "1.2.0",
      "model_name": "LayoutModel",
      "state": {}
     }
    },
    "version_major": 2,
    "version_minor": 0
   }
  }
 },
 "nbformat": 4,
 "nbformat_minor": 2
}
